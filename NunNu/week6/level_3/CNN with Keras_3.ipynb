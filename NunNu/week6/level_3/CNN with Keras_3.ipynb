{
 "cells": [
  {
   "cell_type": "markdown",
   "metadata": {},
   "source": [
    "# CNN with Keras by bgo_3 \n",
    "\n",
    "케라스를 사용해서 CNN 분류기를 학습시켜 볼 것이다.    \n",
    "\n",
    "우리의 전력은 학습 데이터 12000개 중 20%를 검증 데이터로 사용하여 분류기를 최적화시키는 것이다. 테스트 데이터는 그대로 놔두고 정말 마지막에 모델의 정확도를 평가할 때 사용한다.     \n",
    "\n",
    "# Generate dataset"
   ]
  },
  {
   "cell_type": "code",
   "execution_count": 4,
   "metadata": {
    "ExecuteTime": {
     "end_time": "2020-09-12T14:47:22.278888Z",
     "start_time": "2020-09-12T14:47:22.272838Z"
    }
   },
   "outputs": [],
   "source": [
    "from tensorflow.keras.utils import to_categorical\n",
    "import numpy as np\n",
    "import pandas as pd\n",
    "from sklearn.model_selection import train_test_split"
   ]
  },
  {
   "cell_type": "code",
   "execution_count": 5,
   "metadata": {
    "ExecuteTime": {
     "end_time": "2020-09-12T14:48:03.696656Z",
     "start_time": "2020-09-12T14:47:59.731341Z"
    }
   },
   "outputs": [],
   "source": [
    "# 데이터 로드\n",
    "data_train = pd.read_csv('../data/fashion-mnist_train.csv')\n",
    "data_test = pd.read_csv('../data/fashion-mnist_test.csv')"
   ]
  },
  {
   "cell_type": "code",
   "execution_count": 7,
   "metadata": {
    "ExecuteTime": {
     "end_time": "2020-09-12T14:49:17.897395Z",
     "start_time": "2020-09-12T14:49:17.697746Z"
    }
   },
   "outputs": [],
   "source": [
    "# 입력 이미지 크기\n",
    "img_rows, img_cols = 28,28\n",
    "input_shape = (img_rows,img_cols,1)\n",
    "\n",
    "# numpy 배열로 변환\n",
    "X = np.array(data_train.iloc[:,1:])\n",
    "y = to_categorical(np.array(data_train.iloc[:,0]))"
   ]
  },
  {
   "cell_type": "markdown",
   "metadata": {
    "ExecuteTime": {
     "end_time": "2020-09-12T14:49:21.874732Z",
     "start_time": "2020-09-12T14:49:21.861732Z"
    }
   },
   "source": [
    "> **np_utils.to_categorical(클래스, 클래스의 함수)**     \n",
    "함수 정수 숫자를 -> [0,0,1,0,0,0]처럼 바꿔서 구분하는 것.\n",
    "즉 원 핫 인코딩"
   ]
  },
  {
   "cell_type": "code",
   "execution_count": 12,
   "metadata": {
    "ExecuteTime": {
     "end_time": "2020-09-12T14:52:22.101512Z",
     "start_time": "2020-09-12T14:52:22.091717Z"
    }
   },
   "outputs": [
    {
     "name": "stdout",
     "output_type": "stream",
     "text": [
      "[2 9 6 0 3 4 5 8 7 1]\n"
     ]
    },
    {
     "data": {
      "text/plain": [
       "array([0., 0., 1., 0., 0., 0., 0., 0., 0., 0.], dtype=float32)"
      ]
     },
     "execution_count": 12,
     "metadata": {},
     "output_type": "execute_result"
    }
   ],
   "source": [
    "print(data_train.iloc[:,0].unique()) \n",
    "y[0]   # 10개의 클래스를 원-핫 인코딩으로 구분해줌"
   ]
  },
  {
   "cell_type": "code",
   "execution_count": 13,
   "metadata": {
    "ExecuteTime": {
     "end_time": "2020-09-12T14:53:25.238512Z",
     "start_time": "2020-09-12T14:53:24.379504Z"
    }
   },
   "outputs": [],
   "source": [
    "# 학습/검증 데이터 셋으로 분리\n",
    "X_train, X_val, y_train, y_val = train_test_split(X,y,test_size = 0.2, random_state = 13)"
   ]
  },
  {
   "cell_type": "code",
   "execution_count": 14,
   "metadata": {
    "ExecuteTime": {
     "end_time": "2020-09-12T14:54:28.235595Z",
     "start_time": "2020-09-12T14:54:28.194565Z"
    }
   },
   "outputs": [],
   "source": [
    "# 테스트 데이터도 numpy 배열로 변환\n",
    "X_test = np.array(data_test.iloc[:,1:])\n",
    "y_test = to_categorical(np.array(data_test.iloc[:,0]))"
   ]
  },
  {
   "cell_type": "code",
   "execution_count": 18,
   "metadata": {
    "ExecuteTime": {
     "end_time": "2020-09-12T14:57:23.840279Z",
     "start_time": "2020-09-12T14:57:23.665692Z"
    }
   },
   "outputs": [],
   "source": [
    "# 1차원 데이터를 2차원 이미지 데이터로 변환\n",
    "X_train = X_train.reshape(X_train.shape[0],img_rows,img_cols,1) # (48000,28,28,1)\n",
    "X_test = X_test.reshape(X_test.shape[0],img_rows,img_cols,1)\n",
    "X_val = X_val.reshape(X_val.shape[0],img_rows,img_cols,1)\n",
    "\n",
    "# 0-1 값으로 정규화\n",
    "X_train = X_train.astype('float32')\n",
    "X_train /= 255 \n",
    "X_test = X_test.astype('float32')\n",
    "X_test /= 255\n",
    "X_val =X_val.astype('float32')\n",
    "X_val /= 255"
   ]
  },
  {
   "cell_type": "markdown",
   "metadata": {},
   "source": [
    "# Modeling "
   ]
  },
  {
   "cell_type": "code",
   "execution_count": 19,
   "metadata": {
    "ExecuteTime": {
     "end_time": "2020-09-12T14:58:43.605930Z",
     "start_time": "2020-09-12T14:58:43.596877Z"
    }
   },
   "outputs": [],
   "source": [
    "import tensorflow.keras as keras \n",
    "from tensorflow.keras.models import Sequential \n",
    "from tensorflow.keras.layers import Dense, Dropout, Flatten, Conv2D, MaxPooling2D, BatchNormalization"
   ]
  },
  {
   "cell_type": "code",
   "execution_count": 30,
   "metadata": {
    "ExecuteTime": {
     "end_time": "2020-09-12T15:10:03.727305Z",
     "start_time": "2020-09-12T15:10:03.723343Z"
    }
   },
   "outputs": [],
   "source": [
    "batch_size = 256 #배치 크기\n",
    "num_classes = 10 # 분류할 클래스 개수\n",
    "epochs = 50      #epochs"
   ]
  },
  {
   "cell_type": "code",
   "execution_count": 21,
   "metadata": {
    "ExecuteTime": {
     "end_time": "2020-09-12T14:59:25.178661Z",
     "start_time": "2020-09-12T14:59:25.026620Z"
    }
   },
   "outputs": [],
   "source": [
    "model = Sequential()"
   ]
  },
  {
   "cell_type": "code",
   "execution_count": 22,
   "metadata": {
    "ExecuteTime": {
     "end_time": "2020-09-12T15:05:51.605007Z",
     "start_time": "2020-09-12T15:05:51.452938Z"
    }
   },
   "outputs": [],
   "source": [
    "# 모델 설계\n",
    "\n",
    "#Conv Layer1 \n",
    "model.add(Conv2D(32, kernel_size =(3,3),activation='relu',\n",
    "                kernel_initializer = 'he_normal',input_shape = input_shape))\n",
    "model.add(MaxPooling2D(2,2))\n",
    "model.add(Dropout(0.25))\n",
    "\n",
    "#Conv Layer 2 \n",
    "model.add(Conv2D(64,(3,3),activation='relu'))\n",
    "model.add(MaxPooling2D(pool_size =(2,2)))\n",
    "model.add(Dropout(0.25))\n",
    "\n",
    "#Conv Layer 3\n",
    "model.add(Conv2D(128,(3,3),activation='relu'))\n",
    "model.add(Dropout(0.4))\n",
    "\n",
    "# 데이터 평탄화\n",
    "model.add(Flatten())\n",
    "\n",
    "#Dense Layer 1 \n",
    "model.add(Dense(128, activation='relu'))\n",
    "model.add(Dropout(0.3))\n",
    "\n",
    "# Dense Layer2 \n",
    "model.add(Dense(num_classes,activation='softmax'))"
   ]
  },
  {
   "cell_type": "code",
   "execution_count": 27,
   "metadata": {
    "ExecuteTime": {
     "end_time": "2020-09-12T15:07:42.701227Z",
     "start_time": "2020-09-12T15:07:42.679749Z"
    }
   },
   "outputs": [],
   "source": [
    "# 모델 컴파일\n",
    "# 1. 최적화 알고리즘 : Adam\n",
    "# 2. 비용 함수 : 카테고리형 Cross Entropy \n",
    "# 3. 평가지표 : 정확도\n",
    "model.compile(loss = keras.losses.categorical_crossentropy,\n",
    "             optimizer=keras.optimizers.Adam(), metrics=  ['accuracy'])"
   ]
  },
  {
   "cell_type": "code",
   "execution_count": 28,
   "metadata": {
    "ExecuteTime": {
     "end_time": "2020-09-12T15:07:48.289096Z",
     "start_time": "2020-09-12T15:07:48.282096Z"
    }
   },
   "outputs": [
    {
     "name": "stdout",
     "output_type": "stream",
     "text": [
      "Model: \"sequential\"\n",
      "_________________________________________________________________\n",
      "Layer (type)                 Output Shape              Param #   \n",
      "=================================================================\n",
      "conv2d (Conv2D)              (None, 26, 26, 32)        320       \n",
      "_________________________________________________________________\n",
      "max_pooling2d (MaxPooling2D) (None, 13, 13, 32)        0         \n",
      "_________________________________________________________________\n",
      "dropout (Dropout)            (None, 13, 13, 32)        0         \n",
      "_________________________________________________________________\n",
      "conv2d_1 (Conv2D)            (None, 11, 11, 64)        18496     \n",
      "_________________________________________________________________\n",
      "max_pooling2d_1 (MaxPooling2 (None, 5, 5, 64)          0         \n",
      "_________________________________________________________________\n",
      "dropout_1 (Dropout)          (None, 5, 5, 64)          0         \n",
      "_________________________________________________________________\n",
      "conv2d_2 (Conv2D)            (None, 3, 3, 128)         73856     \n",
      "_________________________________________________________________\n",
      "dropout_2 (Dropout)          (None, 3, 3, 128)         0         \n",
      "_________________________________________________________________\n",
      "flatten (Flatten)            (None, 1152)              0         \n",
      "_________________________________________________________________\n",
      "dense (Dense)                (None, 128)               147584    \n",
      "_________________________________________________________________\n",
      "dropout_3 (Dropout)          (None, 128)               0         \n",
      "_________________________________________________________________\n",
      "dense_1 (Dense)              (None, 10)                1290      \n",
      "=================================================================\n",
      "Total params: 241,546\n",
      "Trainable params: 241,546\n",
      "Non-trainable params: 0\n",
      "_________________________________________________________________\n"
     ]
    }
   ],
   "source": [
    "model.summary()"
   ]
  },
  {
   "cell_type": "markdown",
   "metadata": {},
   "source": [
    "# Training "
   ]
  },
  {
   "cell_type": "code",
   "execution_count": 32,
   "metadata": {
    "ExecuteTime": {
     "end_time": "2020-09-12T15:34:50.108411Z",
     "start_time": "2020-09-12T15:10:11.989422Z"
    }
   },
   "outputs": [
    {
     "name": "stdout",
     "output_type": "stream",
     "text": [
      "Epoch 1/50\n",
      "188/188 [==============================] - 23s 122ms/step - loss: 0.5098 - accuracy: 0.8093 - val_loss: 0.4139 - val_accuracy: 0.8488\n",
      "Epoch 2/50\n",
      "188/188 [==============================] - 28s 150ms/step - loss: 0.4466 - accuracy: 0.8355 - val_loss: 0.3691 - val_accuracy: 0.8639\n",
      "Epoch 3/50\n",
      "188/188 [==============================] - 27s 146ms/step - loss: 0.4076 - accuracy: 0.8517 - val_loss: 0.3545 - val_accuracy: 0.8643\n",
      "Epoch 4/50\n",
      "188/188 [==============================] - 28s 147ms/step - loss: 0.3813 - accuracy: 0.8607 - val_loss: 0.3221 - val_accuracy: 0.8811\n",
      "Epoch 5/50\n",
      "188/188 [==============================] - 28s 151ms/step - loss: 0.3589 - accuracy: 0.8692 - val_loss: 0.3039 - val_accuracy: 0.8885\n",
      "Epoch 6/50\n",
      "188/188 [==============================] - 30s 158ms/step - loss: 0.3414 - accuracy: 0.8755 - val_loss: 0.3024 - val_accuracy: 0.8879\n",
      "Epoch 7/50\n",
      "188/188 [==============================] - 30s 159ms/step - loss: 0.3304 - accuracy: 0.8800 - val_loss: 0.2838 - val_accuracy: 0.8936\n",
      "Epoch 8/50\n",
      "188/188 [==============================] - 30s 160ms/step - loss: 0.3175 - accuracy: 0.8847 - val_loss: 0.2755 - val_accuracy: 0.8971\n",
      "Epoch 9/50\n",
      "188/188 [==============================] - 59s 312ms/step - loss: 0.3049 - accuracy: 0.8880 - val_loss: 0.2780 - val_accuracy: 0.8964\n",
      "Epoch 10/50\n",
      "188/188 [==============================] - 25s 133ms/step - loss: 0.2989 - accuracy: 0.8900 - val_loss: 0.2696 - val_accuracy: 0.9002\n",
      "Epoch 11/50\n",
      "188/188 [==============================] - 29s 156ms/step - loss: 0.2906 - accuracy: 0.8920 - val_loss: 0.2577 - val_accuracy: 0.9029\n",
      "Epoch 12/50\n",
      "188/188 [==============================] - 30s 160ms/step - loss: 0.2817 - accuracy: 0.8965 - val_loss: 0.2555 - val_accuracy: 0.9046\n",
      "Epoch 13/50\n",
      "188/188 [==============================] - 28s 151ms/step - loss: 0.2787 - accuracy: 0.8964 - val_loss: 0.2585 - val_accuracy: 0.9046\n",
      "Epoch 14/50\n",
      "188/188 [==============================] - 29s 152ms/step - loss: 0.2732 - accuracy: 0.8995 - val_loss: 0.2533 - val_accuracy: 0.9059\n",
      "Epoch 15/50\n",
      "188/188 [==============================] - 27s 146ms/step - loss: 0.2667 - accuracy: 0.9010 - val_loss: 0.2468 - val_accuracy: 0.9068\n",
      "Epoch 16/50\n",
      "188/188 [==============================] - 29s 152ms/step - loss: 0.2580 - accuracy: 0.9043 - val_loss: 0.2461 - val_accuracy: 0.9082\n",
      "Epoch 17/50\n",
      "188/188 [==============================] - 29s 156ms/step - loss: 0.2595 - accuracy: 0.9042 - val_loss: 0.2434 - val_accuracy: 0.9090\n",
      "Epoch 18/50\n",
      "188/188 [==============================] - 29s 156ms/step - loss: 0.2545 - accuracy: 0.9056 - val_loss: 0.2418 - val_accuracy: 0.9110\n",
      "Epoch 19/50\n",
      "188/188 [==============================] - 28s 147ms/step - loss: 0.2473 - accuracy: 0.9088 - val_loss: 0.2410 - val_accuracy: 0.9082\n",
      "Epoch 20/50\n",
      "188/188 [==============================] - 28s 150ms/step - loss: 0.2466 - accuracy: 0.9088 - val_loss: 0.2349 - val_accuracy: 0.9135\n",
      "Epoch 21/50\n",
      "188/188 [==============================] - 29s 156ms/step - loss: 0.2419 - accuracy: 0.9098 - val_loss: 0.2322 - val_accuracy: 0.9108\n",
      "Epoch 22/50\n",
      "188/188 [==============================] - 30s 159ms/step - loss: 0.2380 - accuracy: 0.9118 - val_loss: 0.2310 - val_accuracy: 0.9132\n",
      "Epoch 23/50\n",
      "188/188 [==============================] - 29s 152ms/step - loss: 0.2355 - accuracy: 0.9118 - val_loss: 0.2393 - val_accuracy: 0.9119\n",
      "Epoch 24/50\n",
      "188/188 [==============================] - 28s 150ms/step - loss: 0.2343 - accuracy: 0.9130 - val_loss: 0.2307 - val_accuracy: 0.9132\n",
      "Epoch 25/50\n",
      "188/188 [==============================] - 29s 155ms/step - loss: 0.2284 - accuracy: 0.9150 - val_loss: 0.2318 - val_accuracy: 0.9111\n",
      "Epoch 26/50\n",
      "188/188 [==============================] - 28s 149ms/step - loss: 0.2283 - accuracy: 0.9152 - val_loss: 0.2312 - val_accuracy: 0.9114\n",
      "Epoch 27/50\n",
      "188/188 [==============================] - 28s 151ms/step - loss: 0.2241 - accuracy: 0.9160 - val_loss: 0.2286 - val_accuracy: 0.9149\n",
      "Epoch 28/50\n",
      "188/188 [==============================] - 28s 150ms/step - loss: 0.2237 - accuracy: 0.9159 - val_loss: 0.2255 - val_accuracy: 0.9164\n",
      "Epoch 29/50\n",
      "188/188 [==============================] - 28s 149ms/step - loss: 0.2193 - accuracy: 0.9183 - val_loss: 0.2291 - val_accuracy: 0.9142\n",
      "Epoch 30/50\n",
      "188/188 [==============================] - 28s 150ms/step - loss: 0.2192 - accuracy: 0.9187 - val_loss: 0.2268 - val_accuracy: 0.9146\n",
      "Epoch 31/50\n",
      "188/188 [==============================] - 29s 153ms/step - loss: 0.2143 - accuracy: 0.9199 - val_loss: 0.2236 - val_accuracy: 0.9158\n",
      "Epoch 32/50\n",
      "188/188 [==============================] - 28s 150ms/step - loss: 0.2179 - accuracy: 0.9189 - val_loss: 0.2266 - val_accuracy: 0.9148\n",
      "Epoch 33/50\n",
      "188/188 [==============================] - 28s 151ms/step - loss: 0.2136 - accuracy: 0.9200 - val_loss: 0.2237 - val_accuracy: 0.9174\n",
      "Epoch 34/50\n",
      "188/188 [==============================] - 28s 150ms/step - loss: 0.2169 - accuracy: 0.9189 - val_loss: 0.2287 - val_accuracy: 0.9138\n",
      "Epoch 35/50\n",
      "188/188 [==============================] - 28s 150ms/step - loss: 0.2092 - accuracy: 0.9205 - val_loss: 0.2184 - val_accuracy: 0.9190\n",
      "Epoch 36/50\n",
      "188/188 [==============================] - 28s 149ms/step - loss: 0.2088 - accuracy: 0.9217 - val_loss: 0.2193 - val_accuracy: 0.9195\n",
      "Epoch 37/50\n",
      "188/188 [==============================] - 28s 149ms/step - loss: 0.2033 - accuracy: 0.9224 - val_loss: 0.2209 - val_accuracy: 0.9212\n",
      "Epoch 38/50\n",
      "188/188 [==============================] - 29s 152ms/step - loss: 0.2046 - accuracy: 0.9238 - val_loss: 0.2208 - val_accuracy: 0.9190\n",
      "Epoch 39/50\n",
      "188/188 [==============================] - 30s 157ms/step - loss: 0.2021 - accuracy: 0.9249 - val_loss: 0.2198 - val_accuracy: 0.9209\n",
      "Epoch 40/50\n",
      "188/188 [==============================] - 31s 163ms/step - loss: 0.2022 - accuracy: 0.9238 - val_loss: 0.2201 - val_accuracy: 0.9196\n",
      "Epoch 41/50\n",
      "188/188 [==============================] - 29s 156ms/step - loss: 0.1969 - accuracy: 0.9265 - val_loss: 0.2216 - val_accuracy: 0.9193\n",
      "Epoch 42/50\n",
      "188/188 [==============================] - 30s 157ms/step - loss: 0.1998 - accuracy: 0.9255 - val_loss: 0.2210 - val_accuracy: 0.9197\n",
      "Epoch 43/50\n",
      "188/188 [==============================] - 30s 161ms/step - loss: 0.1985 - accuracy: 0.9247 - val_loss: 0.2198 - val_accuracy: 0.9212\n",
      "Epoch 44/50\n",
      "188/188 [==============================] - 30s 161ms/step - loss: 0.1990 - accuracy: 0.9239 - val_loss: 0.2280 - val_accuracy: 0.9168\n",
      "Epoch 45/50\n",
      "188/188 [==============================] - 30s 160ms/step - loss: 0.1949 - accuracy: 0.9257 - val_loss: 0.2228 - val_accuracy: 0.9182\n",
      "Epoch 46/50\n",
      "188/188 [==============================] - 30s 161ms/step - loss: 0.1923 - accuracy: 0.9277 - val_loss: 0.2204 - val_accuracy: 0.9188\n",
      "Epoch 47/50\n",
      "188/188 [==============================] - 30s 160ms/step - loss: 0.1909 - accuracy: 0.9274 - val_loss: 0.2302 - val_accuracy: 0.9166\n",
      "Epoch 48/50\n",
      "188/188 [==============================] - 30s 160ms/step - loss: 0.1947 - accuracy: 0.9275 - val_loss: 0.2237 - val_accuracy: 0.9172\n",
      "Epoch 49/50\n",
      "188/188 [==============================] - 30s 160ms/step - loss: 0.1911 - accuracy: 0.9274 - val_loss: 0.2221 - val_accuracy: 0.9194\n",
      "Epoch 50/50\n",
      "188/188 [==============================] - 30s 161ms/step - loss: 0.1886 - accuracy: 0.9292 - val_loss: 0.2228 - val_accuracy: 0.9168\n"
     ]
    }
   ],
   "source": [
    "# 모델 학습\n",
    "history = model.fit(X_train, y_train, batch_size=batch_size, epochs=epochs\n",
    "                   ,validation_data=(X_val, y_val))\n",
    "\n",
    "# 모델 성능 평가\n",
    "score = model.evaluate(X_test, y_test, verbose=0)"
   ]
  },
  {
   "cell_type": "code",
   "execution_count": 33,
   "metadata": {
    "ExecuteTime": {
     "end_time": "2020-09-12T15:37:36.527409Z",
     "start_time": "2020-09-12T15:37:36.514149Z"
    }
   },
   "outputs": [
    {
     "name": "stdout",
     "output_type": "stream",
     "text": [
      "test loss : 0.2053152173757553\n",
      "test accuracy: 0.9277999997138977\n"
     ]
    }
   ],
   "source": [
    "print('test loss :',score[0])\n",
    "print('test accuracy:',score[1])"
   ]
  },
  {
   "cell_type": "markdown",
   "metadata": {},
   "source": [
    "# Results \n",
    "\n",
    "## Plotting accuracy and loss "
   ]
  },
  {
   "cell_type": "code",
   "execution_count": 34,
   "metadata": {
    "ExecuteTime": {
     "end_time": "2020-09-12T15:38:19.170612Z",
     "start_time": "2020-09-12T15:38:18.416769Z"
    }
   },
   "outputs": [],
   "source": [
    "import matplotlib.pyplot as plt \n",
    "%matplotlib inline "
   ]
  },
  {
   "cell_type": "code",
   "execution_count": 39,
   "metadata": {
    "ExecuteTime": {
     "end_time": "2020-09-12T15:46:26.843214Z",
     "start_time": "2020-09-12T15:46:26.823729Z"
    }
   },
   "outputs": [
    {
     "data": {
      "text/plain": [
       "{'loss': [0.5098088979721069,\n",
       "  0.4466405510902405,\n",
       "  0.4075816571712494,\n",
       "  0.3813329339027405,\n",
       "  0.3588636517524719,\n",
       "  0.3414146602153778,\n",
       "  0.3304086923599243,\n",
       "  0.31751787662506104,\n",
       "  0.3049147129058838,\n",
       "  0.29886674880981445,\n",
       "  0.29056277871131897,\n",
       "  0.28172627091407776,\n",
       "  0.27866867184638977,\n",
       "  0.27318084239959717,\n",
       "  0.2667090892791748,\n",
       "  0.25799012184143066,\n",
       "  0.259491503238678,\n",
       "  0.25446122884750366,\n",
       "  0.24730747938156128,\n",
       "  0.2465646117925644,\n",
       "  0.24191418290138245,\n",
       "  0.23804596066474915,\n",
       "  0.23554779589176178,\n",
       "  0.23432226479053497,\n",
       "  0.22839437425136566,\n",
       "  0.2282717078924179,\n",
       "  0.22405895590782166,\n",
       "  0.22365809977054596,\n",
       "  0.21927817165851593,\n",
       "  0.21924853324890137,\n",
       "  0.2142532616853714,\n",
       "  0.21793977916240692,\n",
       "  0.2135809361934662,\n",
       "  0.21689318120479584,\n",
       "  0.20922164618968964,\n",
       "  0.2087683379650116,\n",
       "  0.20327669382095337,\n",
       "  0.20461411774158478,\n",
       "  0.20214973390102386,\n",
       "  0.20223262906074524,\n",
       "  0.19692125916481018,\n",
       "  0.19984497129917145,\n",
       "  0.1985250860452652,\n",
       "  0.19897355139255524,\n",
       "  0.19490885734558105,\n",
       "  0.19231948256492615,\n",
       "  0.19093619287014008,\n",
       "  0.19474630057811737,\n",
       "  0.19105373322963715,\n",
       "  0.18859806656837463],\n",
       " 'accuracy': [0.809333324432373,\n",
       "  0.8355208039283752,\n",
       "  0.851687490940094,\n",
       "  0.8606666922569275,\n",
       "  0.8692083358764648,\n",
       "  0.8755000233650208,\n",
       "  0.8800208568572998,\n",
       "  0.8846874833106995,\n",
       "  0.8880000114440918,\n",
       "  0.8899583220481873,\n",
       "  0.8920416831970215,\n",
       "  0.8964583277702332,\n",
       "  0.8963958621025085,\n",
       "  0.8995416760444641,\n",
       "  0.9009583592414856,\n",
       "  0.9043124914169312,\n",
       "  0.9042291641235352,\n",
       "  0.9055625200271606,\n",
       "  0.9088333249092102,\n",
       "  0.9087708592414856,\n",
       "  0.9098125100135803,\n",
       "  0.9118333458900452,\n",
       "  0.9118124842643738,\n",
       "  0.9129583239555359,\n",
       "  0.9150000214576721,\n",
       "  0.9152083396911621,\n",
       "  0.9159791469573975,\n",
       "  0.9158958196640015,\n",
       "  0.9183333516120911,\n",
       "  0.9187291860580444,\n",
       "  0.9198750257492065,\n",
       "  0.9188958406448364,\n",
       "  0.9200000166893005,\n",
       "  0.918916642665863,\n",
       "  0.9204999804496765,\n",
       "  0.92166668176651,\n",
       "  0.9223541617393494,\n",
       "  0.9238333106040955,\n",
       "  0.9249374866485596,\n",
       "  0.9237916469573975,\n",
       "  0.926520824432373,\n",
       "  0.9255208373069763,\n",
       "  0.9246875047683716,\n",
       "  0.9239374995231628,\n",
       "  0.9256874918937683,\n",
       "  0.9277499914169312,\n",
       "  0.9274166822433472,\n",
       "  0.9274583458900452,\n",
       "  0.9274374842643738,\n",
       "  0.9291666746139526],\n",
       " 'val_loss': [0.41390180587768555,\n",
       "  0.36914050579071045,\n",
       "  0.3545058071613312,\n",
       "  0.3221147060394287,\n",
       "  0.30390873551368713,\n",
       "  0.30236831307411194,\n",
       "  0.2837677299976349,\n",
       "  0.2755182981491089,\n",
       "  0.2779533863067627,\n",
       "  0.26955512166023254,\n",
       "  0.2576916813850403,\n",
       "  0.2555118501186371,\n",
       "  0.2585071325302124,\n",
       "  0.2533147931098938,\n",
       "  0.2468080371618271,\n",
       "  0.24612867832183838,\n",
       "  0.24337096512317657,\n",
       "  0.24180518090724945,\n",
       "  0.24095021188259125,\n",
       "  0.23489253222942352,\n",
       "  0.2322055697441101,\n",
       "  0.23099128901958466,\n",
       "  0.23929312825202942,\n",
       "  0.23073342442512512,\n",
       "  0.23180441558361053,\n",
       "  0.23118458688259125,\n",
       "  0.2286330610513687,\n",
       "  0.22545011341571808,\n",
       "  0.22910526394844055,\n",
       "  0.22681845724582672,\n",
       "  0.22357170283794403,\n",
       "  0.2266300469636917,\n",
       "  0.22372959554195404,\n",
       "  0.2286708801984787,\n",
       "  0.2183791846036911,\n",
       "  0.21930503845214844,\n",
       "  0.22085420787334442,\n",
       "  0.22083672881126404,\n",
       "  0.21984505653381348,\n",
       "  0.2201332002878189,\n",
       "  0.2215994894504547,\n",
       "  0.22098813951015472,\n",
       "  0.21983174979686737,\n",
       "  0.2280074656009674,\n",
       "  0.22281600534915924,\n",
       "  0.22036655247211456,\n",
       "  0.23023401200771332,\n",
       "  0.22372175753116608,\n",
       "  0.22206373512744904,\n",
       "  0.2227628380060196],\n",
       " 'val_accuracy': [0.8488333225250244,\n",
       "  0.8639166951179504,\n",
       "  0.8642500042915344,\n",
       "  0.8810833096504211,\n",
       "  0.8884999752044678,\n",
       "  0.8879166841506958,\n",
       "  0.893583357334137,\n",
       "  0.8970833420753479,\n",
       "  0.8964166641235352,\n",
       "  0.9001666903495789,\n",
       "  0.902916669845581,\n",
       "  0.9045833349227905,\n",
       "  0.9045833349227905,\n",
       "  0.905916690826416,\n",
       "  0.9067500233650208,\n",
       "  0.9081666469573975,\n",
       "  0.9089999794960022,\n",
       "  0.9110000133514404,\n",
       "  0.9082499742507935,\n",
       "  0.9135000109672546,\n",
       "  0.9108333587646484,\n",
       "  0.9131666421890259,\n",
       "  0.9119166731834412,\n",
       "  0.9131666421890259,\n",
       "  0.9110833406448364,\n",
       "  0.9114166498184204,\n",
       "  0.9149166941642761,\n",
       "  0.9164166450500488,\n",
       "  0.9141666889190674,\n",
       "  0.9145833253860474,\n",
       "  0.9158333539962769,\n",
       "  0.9148333072662354,\n",
       "  0.9174166917800903,\n",
       "  0.9138333201408386,\n",
       "  0.9190000295639038,\n",
       "  0.9194999933242798,\n",
       "  0.9211666584014893,\n",
       "  0.9190000295639038,\n",
       "  0.9209166765213013,\n",
       "  0.9195833206176758,\n",
       "  0.9193333387374878,\n",
       "  0.9197499752044678,\n",
       "  0.9212499856948853,\n",
       "  0.9167500138282776,\n",
       "  0.9181666374206543,\n",
       "  0.918833315372467,\n",
       "  0.9165833592414856,\n",
       "  0.9172499775886536,\n",
       "  0.9194166660308838,\n",
       "  0.9167500138282776]}"
      ]
     },
     "execution_count": 39,
     "metadata": {},
     "output_type": "execute_result"
    }
   ],
   "source": [
    "history.history"
   ]
  },
  {
   "cell_type": "code",
   "execution_count": 36,
   "metadata": {
    "ExecuteTime": {
     "end_time": "2020-09-12T15:46:02.337982Z",
     "start_time": "2020-09-12T15:46:02.326350Z"
    }
   },
   "outputs": [
    {
     "data": {
      "text/plain": [
       "range(0, 50)"
      ]
     },
     "execution_count": 36,
     "metadata": {},
     "output_type": "execute_result"
    }
   ],
   "source": [
    "# 정확도\n",
    "accuracy = history.history['accuracy']\n",
    "val_accuracy = history.history['val_accuracy']\n",
    "\n",
    "# 손실함수 값 \n",
    "loss = history.history['loss']\n",
    "val_loss = history.history['val_loss']\n",
    "\n",
    "#epoch 수\n",
    "epochs = range(len(accuracy))\n",
    "epochs"
   ]
  },
  {
   "cell_type": "code",
   "execution_count": 40,
   "metadata": {
    "ExecuteTime": {
     "end_time": "2020-09-12T15:48:47.260471Z",
     "start_time": "2020-09-12T15:48:46.773155Z"
    }
   },
   "outputs": [
    {
     "data": {
      "image/png": "[encoded data removed]",
      "text/plain": [
       "<Figure size 432x288 with 1 Axes>"
      ]
     },
     "metadata": {
      "needs_background": "light"
     },
     "output_type": "display_data"
    }
   ],
   "source": [
    "# epoch에 따른 정확도의 변화 시각화\n",
    "plt.plot(epochs, accuracy, 'bo', label = 'training accuracy')\n",
    "plt.plot(epochs, val_accuracy, 'b', label = 'validation accuracy')\n",
    "plt.title('Training and validation acuracy')\n",
    "plt.legend()\n",
    "plt.show()"
   ]
  },
  {
   "cell_type": "code",
   "execution_count": 41,
   "metadata": {
    "ExecuteTime": {
     "end_time": "2020-09-12T15:50:00.192662Z",
     "start_time": "2020-09-12T15:49:59.858620Z"
    }
   },
   "outputs": [
    {
     "data": {
      "image/png": "[encoded data removed]",
      "text/plain": [
       "<Figure size 432x288 with 1 Axes>"
      ]
     },
     "metadata": {
      "needs_background": "light"
     },
     "output_type": "display_data"
    }
   ],
   "source": [
    "# epoch에 따른 손실함수 값의 변화 시각화\n",
    "plt.plot(epochs, loss, 'bo', label = 'training and loss')\n",
    "plt.plot(epochs, val_loss,'b', label = 'validation loss')\n",
    "plt.title('Training and validation loss')\n",
    "plt.legend()\n",
    "plt.show()"
   ]
  },
  {
   "cell_type": "markdown",
   "metadata": {},
   "source": [
    "## Classification Report "
   ]
  },
  {
   "cell_type": "code",
   "execution_count": 49,
   "metadata": {
    "ExecuteTime": {
     "end_time": "2020-09-12T15:58:44.320752Z",
     "start_time": "2020-09-12T15:58:41.775440Z"
    }
   },
   "outputs": [],
   "source": [
    "# 테스트 데이터 라벨 예측\n",
    "predicted_classes = model.predict_classes(X_test)\n",
    "\n",
    "#시각화할 인덱스 추출\n",
    "y_true = data_test.iloc[:,0]\n",
    "correct = np.where(predicted_classes ==y_true)[0]\n",
    "incorrect = np.where(predicted_classes != y_true)[0]"
   ]
  },
  {
   "cell_type": "code",
   "execution_count": 44,
   "metadata": {
    "ExecuteTime": {
     "end_time": "2020-09-12T15:54:40.094882Z",
     "start_time": "2020-09-12T15:54:40.029600Z"
    }
   },
   "outputs": [
    {
     "name": "stdout",
     "output_type": "stream",
     "text": [
      "              precision    recall  f1-score   support\n",
      "\n",
      "     Class 0       0.88      0.88      0.88      1000\n",
      "     Class 1       0.99      0.99      0.99      1000\n",
      "     Class 2       0.91      0.87      0.89      1000\n",
      "     Class 3       0.90      0.96      0.93      1000\n",
      "     Class 4       0.90      0.88      0.89      1000\n",
      "     Class 5       0.99      0.98      0.99      1000\n",
      "     Class 6       0.79      0.78      0.79      1000\n",
      "     Class 7       0.96      0.97      0.96      1000\n",
      "     Class 8       0.98      0.99      0.99      1000\n",
      "     Class 9       0.97      0.97      0.97      1000\n",
      "\n",
      "    accuracy                           0.93     10000\n",
      "   macro avg       0.93      0.93      0.93     10000\n",
      "weighted avg       0.93      0.93      0.93     10000\n",
      "\n"
     ]
    }
   ],
   "source": [
    "from sklearn.metrics import classification_report \n",
    "\n",
    "target_names = ['Class {}'.format(i) for i in range(num_classes)]\n",
    "print(classification_report(y_true, predicted_classes,target_names= target_names))"
   ]
  },
  {
   "cell_type": "markdown",
   "metadata": {},
   "source": [
    "우리의 분류기가 Class 6에 대해 정밀도와 recall이 떨어지는 것은 분명하다. Class 2의 경우 정밀도가 다소 떨어지는 편이지만 Class 4의 경우는 recall이 다소 떨어진다.     \n",
    "\n",
    "아마도 우리는 정확한 예측과 부정확한 예측을 시각화한 후에 더 많은 통찰력을 얻을 수 있을 것이다.  \n",
    "\n",
    "다음은 정확히 예측된 클래스들의 부분집합이다. "
   ]
  },
  {
   "cell_type": "code",
   "execution_count": 51,
   "metadata": {
    "ExecuteTime": {
     "end_time": "2020-09-12T15:58:53.603853Z",
     "start_time": "2020-09-12T15:58:50.478213Z"
    }
   },
   "outputs": [
    {
     "data": {
      "image/png": "[encoded data removed]",
      "text/plain": [
       "<Figure size 432x288 with 9 Axes>"
      ]
     },
     "metadata": {
      "needs_background": "light"
     },
     "output_type": "display_data"
    }
   ],
   "source": [
    "for i, correct in enumerate(correct[:9]) :\n",
    "    plt.subplot(3,3,i+1)\n",
    "    plt.imshow(X_test[correct].reshape(28,28),cmap='gray')\n",
    "    plt.title('Predicted {}, Class {}'.format(predicted_classes[correct],y_true[correct]))\n",
    "    plt.tight_layout()"
   ]
  },
  {
   "cell_type": "markdown",
   "metadata": {},
   "source": [
    "다음은 부정확하게 예측된 클래스들의 부분집합이다."
   ]
  },
  {
   "cell_type": "code",
   "execution_count": 52,
   "metadata": {
    "ExecuteTime": {
     "end_time": "2020-09-12T16:01:12.389775Z",
     "start_time": "2020-09-12T16:01:09.386077Z"
    }
   },
   "outputs": [
    {
     "data": {
      "image/png": "[encoded data removed]",
      "text/plain": [
       "<Figure size 432x288 with 9 Axes>"
      ]
     },
     "metadata": {
      "needs_background": "light"
     },
     "output_type": "display_data"
    }
   ],
   "source": [
    "for i, incorrect in enumerate(incorrect[:9]):\n",
    "    plt.subplot(3,3,i+1)\n",
    "    plt.imshow(X_test[incorrect].reshape(28,28))\n",
    "    plt.title('Predicted {},Class{}'.format(predicted_classes[incorrect],y_true[incorrect]))\n",
    "    plt.tight_layout()"
   ]
  },
  {
   "cell_type": "markdown",
   "metadata": {},
   "source": [
    "CNN이 강력한 구조임에도 불구하고 여러 클래스에 존재하는 유사 패턴의 다양성이 분류기의 성능에 영향을 미치는 것으로 보인다. 재킷, 셔츠, 긴팔 블라우스는 다음과 같은 비슷한 패턴을 가지고 있다. : 긴 소매(아니거나), 단추(없거나) 그리고 등등 \n",
    "\n",
    "## What activations look like \n",
    "활성화 값을 시각화해보자!"
   ]
  },
  {
   "cell_type": "code",
   "execution_count": 53,
   "metadata": {
    "ExecuteTime": {
     "end_time": "2020-09-12T16:02:51.017207Z",
     "start_time": "2020-09-12T16:02:50.735094Z"
    }
   },
   "outputs": [
    {
     "data": {
      "image/png": "[encoded data removed]",
      "text/plain": [
       "<Figure size 432x288 with 1 Axes>"
      ]
     },
     "metadata": {
      "needs_background": "light"
     },
     "output_type": "display_data"
    }
   ],
   "source": [
    "test_im = X_train[154]\n",
    "plt.imshow(test_im.reshape(28,28))\n",
    "plt.show()"
   ]
  },
  {
   "cell_type": "markdown",
   "metadata": {},
   "source": [
    "첫 번째 레이어의 두 번째 채널의 활성화 값을 살펴보자"
   ]
  },
  {
   "cell_type": "code",
   "execution_count": 55,
   "metadata": {
    "ExecuteTime": {
     "end_time": "2020-09-12T16:05:04.453839Z",
     "start_time": "2020-09-12T16:05:04.417327Z"
    }
   },
   "outputs": [
    {
     "name": "stdout",
     "output_type": "stream",
     "text": [
      "Model: \"functional_1\"\n",
      "_________________________________________________________________\n",
      "Layer (type)                 Output Shape              Param #   \n",
      "=================================================================\n",
      "conv2d_input (InputLayer)    [(None, 28, 28, 1)]       0         \n",
      "_________________________________________________________________\n",
      "conv2d (Conv2D)              (None, 26, 26, 32)        320       \n",
      "_________________________________________________________________\n",
      "max_pooling2d (MaxPooling2D) (None, 13, 13, 32)        0         \n",
      "_________________________________________________________________\n",
      "dropout (Dropout)            (None, 13, 13, 32)        0         \n",
      "_________________________________________________________________\n",
      "conv2d_1 (Conv2D)            (None, 11, 11, 64)        18496     \n",
      "_________________________________________________________________\n",
      "max_pooling2d_1 (MaxPooling2 (None, 5, 5, 64)          0         \n",
      "_________________________________________________________________\n",
      "dropout_1 (Dropout)          (None, 5, 5, 64)          0         \n",
      "_________________________________________________________________\n",
      "conv2d_2 (Conv2D)            (None, 3, 3, 128)         73856     \n",
      "_________________________________________________________________\n",
      "dropout_2 (Dropout)          (None, 3, 3, 128)         0         \n",
      "=================================================================\n",
      "Total params: 92,672\n",
      "Trainable params: 92,672\n",
      "Non-trainable params: 0\n",
      "_________________________________________________________________\n"
     ]
    }
   ],
   "source": [
    "from tensorflow.keras import models\n",
    "\n",
    "# 이 모델 ㅣ fumctional_1은 어디서 왔을까?\n",
    "layer_outputs = [layer.output for layer in model.layers[:8]]\n",
    "activation_model = models.Model(inputs=model.input, outputs=layer_outputs)\n",
    "activation_model.summary()"
   ]
  },
  {
   "cell_type": "code",
   "execution_count": 66,
   "metadata": {
    "ExecuteTime": {
     "end_time": "2020-09-12T16:08:56.805932Z",
     "start_time": "2020-09-12T16:08:56.535838Z"
    }
   },
   "outputs": [
    {
     "data": {
      "text/plain": [
       "<matplotlib.image.AxesImage at 0x17b6cffe988>"
      ]
     },
     "execution_count": 66,
     "metadata": {},
     "output_type": "execute_result"
    },
    {
     "data": {
      "image/png": "[encoded data removed]",
      "text/plain": [
       "<Figure size 288x288 with 1 Axes>"
      ]
     },
     "metadata": {
      "needs_background": "light"
     },
     "output_type": "display_data"
    }
   ],
   "source": [
    "activations = activation_model.predict(test_im.reshape(1,28,28,1))\n",
    "first_layer_activation = activations[0]\n",
    "plt.matshow(first_layer_activation[0,:,:,4])"
   ]
  },
  {
   "cell_type": "markdown",
   "metadata": {},
   "source": [
    "다른 conv layer의 활성화 값을 시각화해보자"
   ]
  },
  {
   "cell_type": "code",
   "execution_count": 72,
   "metadata": {
    "ExecuteTime": {
     "end_time": "2020-09-12T16:10:27.239984Z",
     "start_time": "2020-09-12T16:10:27.230172Z"
    }
   },
   "outputs": [],
   "source": [
    "layer_names = [] \n",
    "\n",
    "for layer in model.layers[: -1] :\n",
    "    layer_names.append(layer.name)\n",
    "\n",
    "images_per_row = 16"
   ]
  },
  {
   "cell_type": "code",
   "execution_count": 73,
   "metadata": {
    "ExecuteTime": {
     "end_time": "2020-09-12T16:17:48.117929Z",
     "start_time": "2020-09-12T16:17:45.773456Z"
    }
   },
   "outputs": [
    {
     "data": {
      "image/png": "[encoded data removed]",
      "text/plain": [
       "<Figure size 1152x1152 with 1 Axes>"
      ]
     },
     "metadata": {
      "needs_background": "light"
     },
     "output_type": "display_data"
    },
    {
     "data": {
      "image/png": "[encoded data removed]",
      "text/plain": [
       "<Figure size 1152x1152 with 1 Axes>"
      ]
     },
     "metadata": {
      "needs_background": "light"
     },
     "output_type": "display_data"
    },
    {
     "data": {
      "image/png": "[encoded data removed]",
      "text/plain": [
       "<Figure size 1152x1152 with 1 Axes>"
      ]
     },
     "metadata": {
      "needs_background": "light"
     },
     "output_type": "display_data"
    }
   ],
   "source": [
    "for layer_name, layer_activation in zip(layer_names, activations) :\n",
    "    if layer_name.startswith('conv'):\n",
    "        n_features = layer_activation.shape[-1]\n",
    "        size = layer_activation.shape[1]\n",
    "        n_cols = n_features // images_per_row \n",
    "        display_grid = np.zeros((size*n_cols, images_per_row *size))\n",
    "        \n",
    "        for col in range(n_cols) :\n",
    "            for row in range(images_per_row) :\n",
    "                channel_image = layer_activation[0,:,:,col*images_per_row+row]\n",
    "                channel_image *= 64 \n",
    "                channel_image += 128 \n",
    "                # channel_image에서 0보다 작은 수들은 0으로 바꿔줌\n",
    "                channel_image = np.clip(channel_image,0,255).astype('uint8')\n",
    "                display_grid[col*size:(col +1)*size,row*size:(row+1)*size] = channel_image\n",
    "        scale = 1. /size\n",
    "        plt.figure(figsize=(scale* display_grid.shape[1],scale*display_grid.shape[1]))\n",
    "        plt.title(layer_name)\n",
    "        plt.grid(False)\n",
    "        plt.imshow(display_grid, aspect='auto')\n",
    "                \n",
    "                "
   ]
  },
  {
   "cell_type": "code",
   "execution_count": null,
   "metadata": {},
   "outputs": [],
   "source": []
  }
 ],
 "metadata": {
  "hide_input": false,
  "kernelspec": {
   "display_name": "Python 3",
   "language": "python",
   "name": "python3"
  },
  "language_info": {
   "codemirror_mode": {
    "name": "ipython",
    "version": 3
   },
   "file_extension": ".py",
   "mimetype": "text/x-python",
   "name": "python",
   "nbconvert_exporter": "python",
   "pygments_lexer": "ipython3",
   "version": "3.7.6"
  },
  "toc": {
   "base_numbering": 1,
   "nav_menu": {},
   "number_sections": true,
   "sideBar": true,
   "skip_h1_title": false,
   "title_cell": "Table of Contents",
   "title_sidebar": "Contents",
   "toc_cell": false,
   "toc_position": {},
   "toc_section_display": true,
   "toc_window_display": false
  },
  "varInspector": {
   "cols": {
    "lenName": 16,
    "lenType": 16,
    "lenVar": 40
   },
   "kernels_config": {
    "python": {
     "delete_cmd_postfix": "",
     "delete_cmd_prefix": "del ",
     "library": "var_list.py",
     "varRefreshCmd": "print(var_dic_list())"
    },
    "r": {
     "delete_cmd_postfix": ") ",
     "delete_cmd_prefix": "rm(",
     "library": "var_list.r",
     "varRefreshCmd": "cat(var_dic_list()) "
    }
   },
   "types_to_exclude": [
    "module",
    "function",
    "builtin_function_or_method",
    "instance",
    "_Feature"
   ],
   "window_display": false
  }
 },
 "nbformat": 4,
 "nbformat_minor": 4
}
