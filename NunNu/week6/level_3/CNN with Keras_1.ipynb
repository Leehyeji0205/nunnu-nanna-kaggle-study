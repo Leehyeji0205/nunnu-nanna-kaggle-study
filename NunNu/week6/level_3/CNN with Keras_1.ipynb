{
 "cells": [
  {
   "cell_type": "markdown",
   "metadata": {},
   "source": [
    "# CNN with Keras By bgo_1    \n",
    "\n",
    "[원작자](https://www.kaggle.com/bugraokcu/cnn-with-keras/)       "
   ]
  },
  {
   "cell_type": "code",
   "execution_count": 1,
   "metadata": {
    "ExecuteTime": {
     "end_time": "2020-09-12T10:11:25.484171Z",
     "start_time": "2020-09-12T10:11:23.963338Z"
    }
   },
   "outputs": [],
   "source": [
    "import numpy as np #linear algebra\n",
    "import pandas as pd #data processing, CSV file \n",
    "from subprocess import check_output \n",
    "\n",
    "# print(check_output(['Is',\"/data\"])).decode('utf8')"
   ]
  },
  {
   "cell_type": "markdown",
   "metadata": {},
   "source": [
    "# 간략한 정보\n",
    "이번 작업에서, 우리는 CNN classifier를 케라스를 이용해 학습할 것입니다.        \n",
    "우리 전략은 train data (12000 data rows)의 20%를 분류기를 최적화할 검증 데이터로 사용하고, 테스트 데이터가 모델의 정확도를 끝내 평가할때까지 it has never seen.     \n",
    "\n",
    "**주목할 점**     \n",
    "데이터가 이미 섞여있을지 확실하지 못하기 때문에, `validation_split = 0.2`를 사용하고 fit()합니다. 명확하게 검증데이터를 섞어주는 것 대신에, `validation_split`를 사용해 데이터의 20%를 빼냅니다. "
   ]
  },
  {
   "cell_type": "code",
   "execution_count": 2,
   "metadata": {
    "ExecuteTime": {
     "end_time": "2020-09-12T10:11:39.201328Z",
     "start_time": "2020-09-12T10:11:25.487101Z"
    }
   },
   "outputs": [],
   "source": [
    "from tensorflow.keras.utils import to_categorical \n",
    "from sklearn.model_selection import train_test_split \n",
    "\n",
    "data_train = pd.read_csv('data/fashion-mnist_train.csv')\n",
    "data_test = pd.read_csv('data/fashion-mnist_test.csv')\n",
    "\n",
    "img_rows, img_cols = 28,28 \n",
    "input_shape = (img_rows, img_cols,1) # 28,28,1 \n",
    "\n",
    "# train data\n",
    "X = np.array(data_train.iloc[:,1:])\n",
    "y = to_categorical(np.array(data_train.iloc[:,0]))\n",
    "\n",
    "X_train, X_val, y_train, y_val = train_test_split(X, y, test_size = 0.2,random_state=13)\n",
    "\n",
    "# Test data \n",
    "X_test = np.array(data_test.iloc[:,1:])\n",
    "y_test = to_categorical(np.array(data_test.iloc[:,0]))"
   ]
  },
  {
   "cell_type": "code",
   "execution_count": 3,
   "metadata": {
    "ExecuteTime": {
     "end_time": "2020-09-12T10:11:39.404618Z",
     "start_time": "2020-09-12T10:11:39.204335Z"
    }
   },
   "outputs": [],
   "source": [
    "X_train = X_train.reshape(X_train.shape[0],img_rows,img_cols,1)\n",
    "X_test = X_test.reshape(X_test.shape[0], img_rows, img_cols,1)\n",
    "X_val = X_val.reshape(X_val.shape[0], img_rows, img_cols,1)\n",
    "\n",
    "X_train = X_train.astype('float32')\n",
    "X_test = X_test.astype('float32')\n",
    "X_val = X_val.astype('float32')\n",
    "X_train /= 255\n",
    "X_test /= 255\n",
    "X_val /= 255"
   ]
  },
  {
   "cell_type": "code",
   "execution_count": 11,
   "metadata": {
    "ExecuteTime": {
     "end_time": "2020-09-12T10:14:58.091132Z",
     "start_time": "2020-09-12T10:14:58.086129Z"
    }
   },
   "outputs": [],
   "source": [
    "import tensorflow.keras as keras \n",
    "from tensorflow.keras.models import Sequential\n",
    "from tensorflow.keras.layers import Dense, Dropout, Flatten\n",
    "from tensorflow.keras.layers import Conv2D, MaxPooling2D\n",
    "from tensorflow.keras.layers import BatchNormalization\n",
    "\n",
    "batch_size = 256\n",
    "num_classes = 10 \n",
    "epochs = 50 "
   ]
  },
  {
   "cell_type": "code",
   "execution_count": 12,
   "metadata": {
    "ExecuteTime": {
     "end_time": "2020-09-12T10:14:58.824089Z",
     "start_time": "2020-09-12T10:14:58.712720Z"
    }
   },
   "outputs": [],
   "source": [
    "model = Sequential()\n",
    "model.add(Conv2D(32, kernel_size = (3,3),\n",
    "                activation= 'relu',\n",
    "                kernel_initializer = 'he_normal',\n",
    "                input_shape = input_shape))\n",
    "\n",
    "model.add(MaxPooling2D(2,2))\n",
    "model.add(Dropout(0.25))\n",
    "model.add(Conv2D(64,(3,3),activation='relu'))\n",
    "model.add(MaxPooling2D(pool_size = (2,2)))\n",
    "model.add(Dropout(0.25))\n",
    "model.add(Conv2D(128,(3,3),activation='relu'))\n",
    "model.add(Dropout(0.4))\n",
    "model.add(Flatten())\n",
    "model.add(Dense(128, activation='relu'))\n",
    "model.add(Dropout(0.3))\n",
    "model.add(Dense(num_classes, activation='relu'))\n",
    "\n",
    "model.compile(loss = keras.losses.categorical_crossentropy,\n",
    "             optimizer = keras.optimizers.Adam(),\n",
    "             metrics= ['accuracy'])"
   ]
  },
  {
   "cell_type": "code",
   "execution_count": 13,
   "metadata": {
    "ExecuteTime": {
     "end_time": "2020-09-12T10:15:01.864029Z",
     "start_time": "2020-09-12T10:15:01.851980Z"
    }
   },
   "outputs": [
    {
     "name": "stdout",
     "output_type": "stream",
     "text": [
      "Model: \"sequential_2\"\n",
      "_________________________________________________________________\n",
      "Layer (type)                 Output Shape              Param #   \n",
      "=================================================================\n",
      "conv2d_6 (Conv2D)            (None, 26, 26, 32)        320       \n",
      "_________________________________________________________________\n",
      "max_pooling2d_4 (MaxPooling2 (None, 13, 13, 32)        0         \n",
      "_________________________________________________________________\n",
      "dropout_8 (Dropout)          (None, 13, 13, 32)        0         \n",
      "_________________________________________________________________\n",
      "conv2d_7 (Conv2D)            (None, 11, 11, 64)        18496     \n",
      "_________________________________________________________________\n",
      "max_pooling2d_5 (MaxPooling2 (None, 5, 5, 64)          0         \n",
      "_________________________________________________________________\n",
      "dropout_9 (Dropout)          (None, 5, 5, 64)          0         \n",
      "_________________________________________________________________\n",
      "conv2d_8 (Conv2D)            (None, 3, 3, 128)         73856     \n",
      "_________________________________________________________________\n",
      "dropout_10 (Dropout)         (None, 3, 3, 128)         0         \n",
      "_________________________________________________________________\n",
      "flatten_2 (Flatten)          (None, 1152)              0         \n",
      "_________________________________________________________________\n",
      "dense_4 (Dense)              (None, 128)               147584    \n",
      "_________________________________________________________________\n",
      "dropout_11 (Dropout)         (None, 128)               0         \n",
      "_________________________________________________________________\n",
      "dense_5 (Dense)              (None, 10)                1290      \n",
      "=================================================================\n",
      "Total params: 241,546\n",
      "Trainable params: 241,546\n",
      "Non-trainable params: 0\n",
      "_________________________________________________________________\n"
     ]
    }
   ],
   "source": [
    "model.summary()"
   ]
  },
  {
   "cell_type": "markdown",
   "metadata": {},
   "source": [
    "# Training "
   ]
  },
  {
   "cell_type": "code",
   "execution_count": 14,
   "metadata": {
    "ExecuteTime": {
     "end_time": "2020-09-12T10:39:57.066452Z",
     "start_time": "2020-09-12T10:16:31.620737Z"
    }
   },
   "outputs": [
    {
     "name": "stdout",
     "output_type": "stream",
     "text": [
      "Epoch 1/50\n",
      "188/188 [==============================] - 22s 119ms/step - loss: nan - accuracy: 0.1006 - val_loss: nan - val_accuracy: 0.0976\n",
      "Epoch 2/50\n",
      "188/188 [==============================] - 25s 132ms/step - loss: nan - accuracy: 0.1006 - val_loss: nan - val_accuracy: 0.0976\n",
      "Epoch 3/50\n",
      "188/188 [==============================] - 31s 167ms/step - loss: nan - accuracy: 0.1006 - val_loss: nan - val_accuracy: 0.0976\n",
      "Epoch 4/50\n",
      "188/188 [==============================] - 30s 161ms/step - loss: nan - accuracy: 0.1006 - val_loss: nan - val_accuracy: 0.0976\n",
      "Epoch 5/50\n",
      "188/188 [==============================] - 31s 164ms/step - loss: nan - accuracy: 0.1006 - val_loss: nan - val_accuracy: 0.0976\n",
      "Epoch 6/50\n",
      "188/188 [==============================] - 31s 164ms/step - loss: nan - accuracy: 0.1006 - val_loss: nan - val_accuracy: 0.0976\n",
      "Epoch 7/50\n",
      "188/188 [==============================] - 28s 150ms/step - loss: nan - accuracy: 0.1006 - val_loss: nan - val_accuracy: 0.0976\n",
      "Epoch 8/50\n",
      "188/188 [==============================] - 27s 146ms/step - loss: nan - accuracy: 0.1006 - val_loss: nan - val_accuracy: 0.0976\n",
      "Epoch 9/50\n",
      "188/188 [==============================] - 28s 147ms/step - loss: nan - accuracy: 0.1006 - val_loss: nan - val_accuracy: 0.0976\n",
      "Epoch 10/50\n",
      "188/188 [==============================] - 31s 167ms/step - loss: nan - accuracy: 0.1006 - val_loss: nan - val_accuracy: 0.0976\n",
      "Epoch 11/50\n",
      "188/188 [==============================] - 29s 156ms/step - loss: nan - accuracy: 0.1006 - val_loss: nan - val_accuracy: 0.0976\n",
      "Epoch 12/50\n",
      "188/188 [==============================] - 27s 142ms/step - loss: nan - accuracy: 0.1006 - val_loss: nan - val_accuracy: 0.0976\n",
      "Epoch 13/50\n",
      "188/188 [==============================] - 27s 143ms/step - loss: nan - accuracy: 0.1006 - val_loss: nan - val_accuracy: 0.0976\n",
      "Epoch 14/50\n",
      "188/188 [==============================] - 27s 143ms/step - loss: nan - accuracy: 0.1006 - val_loss: nan - val_accuracy: 0.0976\n",
      "Epoch 15/50\n",
      "188/188 [==============================] - 27s 144ms/step - loss: nan - accuracy: 0.1006 - val_loss: nan - val_accuracy: 0.0976\n",
      "Epoch 16/50\n",
      "188/188 [==============================] - 27s 144ms/step - loss: nan - accuracy: 0.1006 - val_loss: nan - val_accuracy: 0.0976\n",
      "Epoch 17/50\n",
      "188/188 [==============================] - 28s 146ms/step - loss: nan - accuracy: 0.1006 - val_loss: nan - val_accuracy: 0.0976\n",
      "Epoch 18/50\n",
      "188/188 [==============================] - 27s 145ms/step - loss: nan - accuracy: 0.1006 - val_loss: nan - val_accuracy: 0.0976\n",
      "Epoch 19/50\n",
      "188/188 [==============================] - 27s 146ms/step - loss: nan - accuracy: 0.1006 - val_loss: nan - val_accuracy: 0.0976\n",
      "Epoch 20/50\n",
      "188/188 [==============================] - 27s 146ms/step - loss: nan - accuracy: 0.1006 - val_loss: nan - val_accuracy: 0.0976\n",
      "Epoch 21/50\n",
      "188/188 [==============================] - 28s 148ms/step - loss: nan - accuracy: 0.1006 - val_loss: nan - val_accuracy: 0.0976\n",
      "Epoch 22/50\n",
      "188/188 [==============================] - 27s 146ms/step - loss: nan - accuracy: 0.1006 - val_loss: nan - val_accuracy: 0.0976\n",
      "Epoch 23/50\n",
      "188/188 [==============================] - 28s 148ms/step - loss: nan - accuracy: 0.1006 - val_loss: nan - val_accuracy: 0.0976\n",
      "Epoch 24/50\n",
      "188/188 [==============================] - 28s 148ms/step - loss: nan - accuracy: 0.1006 - val_loss: nan - val_accuracy: 0.0976\n",
      "Epoch 25/50\n",
      "188/188 [==============================] - 28s 147ms/step - loss: nan - accuracy: 0.1006 - val_loss: nan - val_accuracy: 0.0976\n",
      "Epoch 26/50\n",
      "188/188 [==============================] - 28s 147ms/step - loss: nan - accuracy: 0.1006 - val_loss: nan - val_accuracy: 0.0976\n",
      "Epoch 27/50\n",
      "188/188 [==============================] - 28s 151ms/step - loss: nan - accuracy: 0.1006 - val_loss: nan - val_accuracy: 0.0976\n",
      "Epoch 28/50\n",
      "188/188 [==============================] - 28s 147ms/step - loss: nan - accuracy: 0.1006 - val_loss: nan - val_accuracy: 0.0976\n",
      "Epoch 29/50\n",
      "188/188 [==============================] - 28s 148ms/step - loss: nan - accuracy: 0.1006 - val_loss: nan - val_accuracy: 0.0976\n",
      "Epoch 30/50\n",
      "188/188 [==============================] - 29s 155ms/step - loss: nan - accuracy: 0.1006 - val_loss: nan - val_accuracy: 0.0976\n",
      "Epoch 31/50\n",
      "188/188 [==============================] - 30s 160ms/step - loss: nan - accuracy: 0.1006 - val_loss: nan - val_accuracy: 0.0976\n",
      "Epoch 32/50\n",
      "188/188 [==============================] - 28s 150ms/step - loss: nan - accuracy: 0.1006 - val_loss: nan - val_accuracy: 0.0976\n",
      "Epoch 33/50\n",
      "188/188 [==============================] - 27s 143ms/step - loss: nan - accuracy: 0.1006 - val_loss: nan - val_accuracy: 0.0976\n",
      "Epoch 34/50\n",
      "188/188 [==============================] - 28s 150ms/step - loss: nan - accuracy: 0.1006 - val_loss: nan - val_accuracy: 0.0976\n",
      "Epoch 35/50\n",
      "188/188 [==============================] - 27s 146ms/step - loss: nan - accuracy: 0.1006 - val_loss: nan - val_accuracy: 0.0976\n",
      "Epoch 36/50\n",
      "188/188 [==============================] - 27s 146ms/step - loss: nan - accuracy: 0.1006 - val_loss: nan - val_accuracy: 0.0976\n",
      "Epoch 37/50\n",
      "188/188 [==============================] - 28s 147ms/step - loss: nan - accuracy: 0.1006 - val_loss: nan - val_accuracy: 0.0976\n",
      "Epoch 38/50\n",
      "188/188 [==============================] - 30s 159ms/step - loss: nan - accuracy: 0.1006 - val_loss: nan - val_accuracy: 0.0976\n",
      "Epoch 39/50\n",
      "188/188 [==============================] - 30s 158ms/step - loss: nan - accuracy: 0.1006 - val_loss: nan - val_accuracy: 0.0976\n",
      "Epoch 40/50\n",
      "188/188 [==============================] - 28s 147ms/step - loss: nan - accuracy: 0.1006 - val_loss: nan - val_accuracy: 0.0976\n",
      "Epoch 41/50\n",
      "188/188 [==============================] - 28s 148ms/step - loss: nan - accuracy: 0.1006 - val_loss: nan - val_accuracy: 0.0976\n",
      "Epoch 42/50\n",
      "188/188 [==============================] - 28s 148ms/step - loss: nan - accuracy: 0.1006 - val_loss: nan - val_accuracy: 0.0976\n",
      "Epoch 43/50\n",
      "188/188 [==============================] - 29s 155ms/step - loss: nan - accuracy: 0.1006 - val_loss: nan - val_accuracy: 0.0976\n",
      "Epoch 44/50\n",
      "188/188 [==============================] - 27s 146ms/step - loss: nan - accuracy: 0.1006 - val_loss: nan - val_accuracy: 0.0976\n",
      "Epoch 45/50\n",
      "188/188 [==============================] - 27s 144ms/step - loss: nan - accuracy: 0.1006 - val_loss: nan - val_accuracy: 0.0976\n",
      "Epoch 46/50\n",
      "188/188 [==============================] - 27s 143ms/step - loss: nan - accuracy: 0.1006 - val_loss: nan - val_accuracy: 0.0976\n",
      "Epoch 47/50\n",
      "188/188 [==============================] - 27s 146ms/step - loss: nan - accuracy: 0.1006 - val_loss: nan - val_accuracy: 0.0976\n",
      "Epoch 48/50\n",
      "188/188 [==============================] - 27s 146ms/step - loss: nan - accuracy: 0.1006 - val_loss: nan - val_accuracy: 0.0976\n",
      "Epoch 49/50\n",
      "188/188 [==============================] - 27s 144ms/step - loss: nan - accuracy: 0.1006 - val_loss: nan - val_accuracy: 0.0976\n",
      "Epoch 50/50\n",
      "188/188 [==============================] - 27s 144ms/step - loss: nan - accuracy: 0.1006 - val_loss: nan - val_accuracy: 0.0976\n"
     ]
    }
   ],
   "source": [
    "#모델 학습\n",
    "history = model.fit(X_train, y_train, batch_size=batch_size,\n",
    "                   epochs=epochs, verbose=1, validation_data=(X_val,y_val))\n",
    "\n",
    "#모델 성능\n",
    "score = model.evaluate(X_test, y_test, verbose = 0)"
   ]
  },
  {
   "cell_type": "code",
   "execution_count": 16,
   "metadata": {
    "ExecuteTime": {
     "end_time": "2020-09-12T11:18:42.196903Z",
     "start_time": "2020-09-12T11:18:42.185913Z"
    }
   },
   "outputs": [
    {
     "name": "stdout",
     "output_type": "stream",
     "text": [
      "Test loss : nan\n",
      "Test accuracy: 0.10000000149011612\n"
     ]
    }
   ],
   "source": [
    "print('Test loss :',score[0])\n",
    "print('Test accuracy:',score[1])"
   ]
  },
  {
   "cell_type": "code",
   "execution_count": null,
   "metadata": {},
   "outputs": [],
   "source": []
  }
 ],
 "metadata": {
  "hide_input": false,
  "kernelspec": {
   "display_name": "Python 3",
   "language": "python",
   "name": "python3"
  },
  "language_info": {
   "codemirror_mode": {
    "name": "ipython",
    "version": 3
   },
   "file_extension": ".py",
   "mimetype": "text/x-python",
   "name": "python",
   "nbconvert_exporter": "python",
   "pygments_lexer": "ipython3",
   "version": "3.7.6"
  },
  "toc": {
   "base_numbering": 1,
   "nav_menu": {},
   "number_sections": true,
   "sideBar": true,
   "skip_h1_title": false,
   "title_cell": "Table of Contents",
   "title_sidebar": "Contents",
   "toc_cell": false,
   "toc_position": {},
   "toc_section_display": true,
   "toc_window_display": false
  },
  "varInspector": {
   "cols": {
    "lenName": 16,
    "lenType": 16,
    "lenVar": 40
   },
   "kernels_config": {
    "python": {
     "delete_cmd_postfix": "",
     "delete_cmd_prefix": "del ",
     "library": "var_list.py",
     "varRefreshCmd": "print(var_dic_list())"
    },
    "r": {
     "delete_cmd_postfix": ") ",
     "delete_cmd_prefix": "rm(",
     "library": "var_list.r",
     "varRefreshCmd": "cat(var_dic_list()) "
    }
   },
   "types_to_exclude": [
    "module",
    "function",
    "builtin_function_or_method",
    "instance",
    "_Feature"
   ],
   "window_display": false
  }
 },
 "nbformat": 4,
 "nbformat_minor": 4
}
